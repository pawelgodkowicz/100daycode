{
 "cells": [
  {
   "cell_type": "markdown",
   "metadata": {},
   "source": [
    "## Day 8"
   ]
  },
  {
   "cell_type": "code",
   "execution_count": 5,
   "metadata": {},
   "outputs": [],
   "source": [
    "import string\n",
    "letters = list(string.ascii_lowercase)\n",
    "\n",
    "caesar = '''\n",
    "                                       _       _               \n",
    "                                      (_)     | |              \n",
    "   ___ __ _  ___ ___  __ _ _ __    ___ _ _ __ | |__   ___ _ __ \n",
    "  / __/ _` |/ _ / __|/ _` | '__|  / __| | '_ \\| '_ \\ / _ | '__|\n",
    " | (_| (_| |  __\\__ | (_| | |    | (__| | |_) | | | |  __| |   \n",
    "  \\___\\__,_|\\___|___/\\__,_|_|     \\___|_| .__/|_| |_|\\___|_|   \n",
    "                                        | |                    \n",
    "                                        |_|                    \n",
    "'''\n",
    "ave = '''\n",
    "      db `7MMF'   `7MF`7MM\"\"\"YMM        .g8\"\"\"bgd    db     `7MM\"\"\"YMM   .M\"\"\"bgd      db     `7MM\"\"\"Mq.  \n",
    "     ;MM:  `MA     ,V   MM    `7      .dP'     `M   ;MM:      MM    `7  ,MI    \"Y     ;MM:      MM   `MM. \n",
    "    ,V^MM.  VM:   ,V    MM   d        dM'       `  ,V^MM.     MM   d    `MMb.        ,V^MM.     MM   ,M9  \n",
    "   ,M  `MM   MM.  M'    MMmmMM        MM          ,M  `MM     MMmmMM      `YMMNq.   ,M  `MM     MMmmdM9   \n",
    "   AbmmmqMA  `MM A'     MM   Y  ,     MM.         AbmmmqMA    MM   Y  , .     `MM   AbmmmqMA    MM  YM.   \n",
    "  A'     VML  :MM;      MM     ,M     `Mb.     ,'A'     VML   MM     ,M Mb     dM  A'     VML   MM   `Mb. \n",
    ".AMA.   .AMMA. VF     .JMMmmmmMMM       `\"bmmmd.AMA.   .AMMA.JMMmmmmMMM P\"Ybmmd\" .AMA.   .AMMA.JMML. .JMM.\n",
    "'''"
   ]
  },
  {
   "cell_type": "code",
   "execution_count": 6,
   "metadata": {},
   "outputs": [],
   "source": [
    "def pick():\n",
    "    message = list(input(\"Type your message:\\n\"))\n",
    "    shift_nr = int(input('Type your shift number\\n'))\n",
    "    return message , shift_nr\n",
    "\n",
    "def make_dict(letters, shift_nr):\n",
    "    d = {}\n",
    "    shifted_letters = letters[shift_nr:] + letters[:shift_nr]\n",
    "    for i in range(len(shifted_letters)):\n",
    "        d[letters[i]] = shifted_letters[i] \n",
    "    return d\n",
    "\n",
    "def encode_word(word, encode_dict):\n",
    "    temp = [encode_dict[i] for i in word]\n",
    "    temp = ''.join(temp)\n",
    "    return temp\n",
    "\n",
    "def decode_word(word, encode_dict):\n",
    "    reversed_encoded_dict = {v:k for k,v in encode_dict.items()}\n",
    "    temp = [reversed_encoded_dict[i] for i in word]\n",
    "    temp = ''.join(temp)\n",
    "    return temp\n",
    "\n",
    "def encode():\n",
    "    global letters\n",
    "    message, shift_nr = pick()\n",
    "    enocde_dict = make_dict(letters, shift_nr) \n",
    "    encoded_w = encode_word(message, enocde_dict)\n",
    "    print(f\"Here's the encoded results: {encoded_w}\")\n",
    "    \n",
    "def decode():\n",
    "    global letters\n",
    "    message, shift_nr = pick()\n",
    "    enocde_dict = make_dict(letters, shift_nr) \n",
    "    decoded_w = decode_word(message, enocde_dict)\n",
    "    print(f\"Here's the decoded results: {decoded_w}\")\n",
    "\n",
    "def decode_word(word, encode_dict):\n",
    "    reversed_encoded_dict = {v:k for k,v in encode_dict.items()}\n",
    "    temp = [reversed_encoded_dict[i] for i in word]\n",
    "    temp = ''.join(temp)\n",
    "    return temp\n",
    "\n",
    "def yes_no(letters):\n",
    "    y = input(\"Type 'yes' if you  want to go again,otherwise type 'no'.\\n\")\n",
    "    if y == 'yes': \n",
    "        main_func(letters)\n",
    "    if y =='no':\n",
    "        print(ave)\n",
    "\n",
    "def main_func(letters):\n",
    "    letters = letters\n",
    "    x = input(\"Type 'encode' to encrypt, type 'decode' to decrypt\\n\")\n",
    "    if x == 'encode':\n",
    "        encode()\n",
    "        yes_no(letters)\n",
    "    if x == 'decode':\n",
    "        decode()\n",
    "        yes_no(letters)"
   ]
  },
  {
   "cell_type": "code",
   "execution_count": null,
   "metadata": {},
   "outputs": [
    {
     "name": "stdout",
     "output_type": "stream",
     "text": [
      "\n",
      "                                       _       _               \n",
      "                                      (_)     | |              \n",
      "   ___ __ _  ___ ___  __ _ _ __    ___ _ _ __ | |__   ___ _ __ \n",
      "  / __/ _` |/ _ / __|/ _` | '__|  / __| | '_ \\| '_ \\ / _ | '__|\n",
      " | (_| (_| |  __\\__ | (_| | |    | (__| | |_) | | | |  __| |   \n",
      "  \\___\\__,_|\\___|___/\\__,_|_|     \\___|_| .__/|_| |_|\\___|_|   \n",
      "                                        | |                    \n",
      "                                        |_|                    \n",
      "\n"
     ]
    },
    {
     "name": "stdin",
     "output_type": "stream",
     "text": [
      "Type 'encode' to encrypt, type 'decode' to decrypt\n",
      " encode\n"
     ]
    }
   ],
   "source": [
    "print(caesar)\n",
    "main_func(letters)"
   ]
  },
  {
   "cell_type": "code",
   "execution_count": null,
   "metadata": {},
   "outputs": [],
   "source": []
  }
 ],
 "metadata": {
  "kernelspec": {
   "display_name": "TensorflowGPU",
   "language": "python",
   "name": "tensorflow"
  },
  "language_info": {
   "codemirror_mode": {
    "name": "ipython",
    "version": 3
   },
   "file_extension": ".py",
   "mimetype": "text/x-python",
   "name": "python",
   "nbconvert_exporter": "python",
   "pygments_lexer": "ipython3",
   "version": "3.7.6"
  }
 },
 "nbformat": 4,
 "nbformat_minor": 4
}
