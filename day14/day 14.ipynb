{
 "cells": [
  {
   "cell_type": "code",
   "execution_count": 3,
   "metadata": {},
   "outputs": [],
   "source": [
    "import json\n",
    "import random\n",
    "from IPython.display import clear_output\n",
    "\n",
    "with open('gamedata.json') as json_file:\n",
    "    data = json.load(json_file)\n",
    "table_of_hight_score = []\n",
    "logo = '''\n",
    " /$$   /$$ /$$           /$$                          \n",
    "| $$  | $$|__/          | $$                          \n",
    "| $$  | $$ /$$  /$$$$$$ | $$$$$$$   /$$$$$$   /$$$$$$ \n",
    "| $$$$$$$$| $$ /$$__  $$| $$__  $$ /$$__  $$ /$$__  $$\n",
    "| $$__  $$| $$| $$  \\ $$| $$  \\ $$| $$$$$$$$| $$  \\__/\n",
    "| $$  | $$| $$| $$  | $$| $$  | $$| $$_____/| $$      \n",
    "| $$  | $$| $$|  $$$$$$$| $$  | $$|  $$$$$$$| $$      \n",
    "|__/  |__/|__/ \\____  $$|__/  |__/ \\_______/|__/      \n",
    "               /$$  \\ $$                              \n",
    "              |  $$$$$$/                              \n",
    "               \\______/                               \n",
    " /$$                                                  \n",
    "| $$                                                  \n",
    "| $$        /$$$$$$  /$$  /$$  /$$  /$$$$$$   /$$$$$$ \n",
    "| $$       /$$__  $$| $$ | $$ | $$ /$$__  $$ /$$__  $$\n",
    "| $$      | $$  \\ $$| $$ | $$ | $$| $$$$$$$$| $$  \\__/\n",
    "| $$      | $$  | $$| $$ | $$ | $$| $$_____/| $$      \n",
    "| $$$$$$$$|  $$$$$$/|  $$$$$/$$$$/|  $$$$$$$| $$      \n",
    "|________/ \\______/  \\_____/\\___/  \\_______/|__/      '''  \n",
    "\n",
    "vs = '''                                     \n",
    " /$$    /$$ /$$$$$$$   \n",
    "|  $$  /$$//$$_____/   \n",
    " \\  $$/$$/|  $$$$$$    \n",
    "  \\  $$$/  \\____  $$   \n",
    "   \\  $/   /$$$$$$$//$$\n",
    "    \\_/   |_______/|__/'''"
   ]
  },
  {
   "cell_type": "code",
   "execution_count": 4,
   "metadata": {},
   "outputs": [],
   "source": [
    "def losowanie(temp_list):\n",
    "    num1, num2 = random.sample(range(0,len(data)), 2)\n",
    "    if num1 == num2 or (sorted((num1, num2)) in temp_list):\n",
    "        num1, num2 = random.sample(range(0,len(data)), 2)\n",
    "        \n",
    "    temp_list.append([num1, num2])\n",
    "    return num1, num2\n",
    "\n",
    "def display_data(A, B):\n",
    "    clear_output()\n",
    "    print(logo)\n",
    "    print(\" \")\n",
    "    print(\"-\"*80)\n",
    "    print(f\"Compare A: {data[A]['name']}, a {data[A]['description']}, from {data[A]['country']}.\")\n",
    "    print(\"-\"*80)\n",
    "    print(vs)\n",
    "    print(\" \")\n",
    "    print(\"-\"*80)\n",
    "    print(f\"Compare B: {data[B]['name']}, a {data[B]['description']}, from {data[B]['country']}.\")\n",
    "    print(\"-\"*80)\n",
    "    \n",
    "def yourChoice():\n",
    "    choice = input(\"Who has more followers? Type 'A' or 'B':\")\n",
    "    while choice.upper() not in (['A', 'B']):\n",
    "        choice = input(\"Who has more followers? Type 'A' or 'B':\")\n",
    "    else:\n",
    "        return choice.upper()\n",
    "    \n",
    "def moreFollowers(A, B):\n",
    "    if (data[A]['follower_count'] - data[B]['follower_count'] > 0):\n",
    "        return 'A'\n",
    "    else:\n",
    "        return 'B'\n",
    "    \n",
    "def game():\n",
    "    log_table = []\n",
    "    your_score = 0\n",
    "    playgame = True\n",
    "    while playgame:\n",
    "\n",
    "        num1, num2 = losowanie(log_table) \n",
    "        display_data(num1, num2)\n",
    "        higher = moreFollowers(num1, num2)\n",
    "        choice = yourChoice()\n",
    "\n",
    "        if choice == higher:\n",
    "            your_score+=1\n",
    "        else:\n",
    "            print(f\"Sorry, that's wrong. Fianl score: {your_score}\")\n",
    "            playgame = False\n",
    "    return your_score"
   ]
  },
  {
   "cell_type": "code",
   "execution_count": 13,
   "metadata": {},
   "outputs": [
    {
     "name": "stdout",
     "output_type": "stream",
     "text": [
      "\n",
      " /$$   /$$ /$$           /$$                          \n",
      "| $$  | $$|__/          | $$                          \n",
      "| $$  | $$ /$$  /$$$$$$ | $$$$$$$   /$$$$$$   /$$$$$$ \n",
      "| $$$$$$$$| $$ /$$__  $$| $$__  $$ /$$__  $$ /$$__  $$\n",
      "| $$__  $$| $$| $$  \\ $$| $$  \\ $$| $$$$$$$$| $$  \\__/\n",
      "| $$  | $$| $$| $$  | $$| $$  | $$| $$_____/| $$      \n",
      "| $$  | $$| $$|  $$$$$$$| $$  | $$|  $$$$$$$| $$      \n",
      "|__/  |__/|__/ \\____  $$|__/  |__/ \\_______/|__/      \n",
      "               /$$  \\ $$                              \n",
      "              |  $$$$$$/                              \n",
      "               \\______/                               \n",
      " /$$                                                  \n",
      "| $$                                                  \n",
      "| $$        /$$$$$$  /$$  /$$  /$$  /$$$$$$   /$$$$$$ \n",
      "| $$       /$$__  $$| $$ | $$ | $$ /$$__  $$ /$$__  $$\n",
      "| $$      | $$  \\ $$| $$ | $$ | $$| $$$$$$$$| $$  \\__/\n",
      "| $$      | $$  | $$| $$ | $$ | $$| $$_____/| $$      \n",
      "| $$$$$$$$|  $$$$$$/|  $$$$$/$$$$/|  $$$$$$$| $$      \n",
      "|________/ \\______/  \\_____/\\___/  \\_______/|__/      \n",
      " \n",
      "--------------------------------------------------------------------------------\n",
      "Compare A: Kim Kardashian, a Reality TV personality and businesswoman, from United States.\n",
      "--------------------------------------------------------------------------------\n",
      "                                     \n",
      " /$$    /$$ /$$$$$$$   \n",
      "|  $$  /$$//$$_____/   \n",
      " \\  $$/$$/|  $$$$$$    \n",
      "  \\  $$$/  \\____  $$   \n",
      "   \\  $/   /$$$$$$$//$$\n",
      "    \\_/   |_______/|__/\n",
      " \n",
      "--------------------------------------------------------------------------------\n",
      "Compare B: Nicki Minaj, a Musician, from Trinidad and Tobago.\n",
      "--------------------------------------------------------------------------------\n"
     ]
    },
    {
     "name": "stdin",
     "output_type": "stream",
     "text": [
      "Who has more followers? Type 'A' or 'B': b\n"
     ]
    },
    {
     "name": "stdout",
     "output_type": "stream",
     "text": [
      "Sorry, that's wrong. Fianl score: 2\n"
     ]
    }
   ],
   "source": [
    "score = game()\n",
    "if score >= 3:\n",
    "    nickname = input('Enter your nickname')\n",
    "    table_of_hight_score.append({'nickname': nickname, 'score':score})"
   ]
  },
  {
   "cell_type": "code",
   "execution_count": 14,
   "metadata": {},
   "outputs": [
    {
     "data": {
      "text/plain": [
       "[{'nickname': 'godos', 'score': 4},\n",
       " {'nickname': 'Godos o 1 w nocy', 'score': 5},\n",
       " {'nickname': 'randomPlayer451', 'score': 3}]"
      ]
     },
     "execution_count": 14,
     "metadata": {},
     "output_type": "execute_result"
    }
   ],
   "source": [
    "table_of_hight_score"
   ]
  }
 ],
 "metadata": {
  "kernelspec": {
   "display_name": "TensorflowGPU",
   "language": "python",
   "name": "tensorflow"
  },
  "language_info": {
   "codemirror_mode": {
    "name": "ipython",
    "version": 3
   },
   "file_extension": ".py",
   "mimetype": "text/x-python",
   "name": "python",
   "nbconvert_exporter": "python",
   "pygments_lexer": "ipython3",
   "version": "3.7.6"
  }
 },
 "nbformat": 4,
 "nbformat_minor": 4
}
