{
 "cells": [
  {
   "cell_type": "markdown",
   "metadata": {},
   "source": [
    "## Day 11 "
   ]
  },
  {
   "cell_type": "code",
   "execution_count": 21,
   "metadata": {},
   "outputs": [],
   "source": [
    "from IPython.display import clear_output\n",
    "import random\n",
    "black_jack = '''\n",
    "  ____  _            _    _            _    \n",
    " |  _ \\| |          | |  (_)          | |   \n",
    " | |_) | | __ _  ___| | ___  __ _  ___| | __\n",
    " |  _ <| |/ _` |/ __| |/ / |/ _` |/ __| |/ /\n",
    " | |_) | | (_| | (__|   <| | (_| | (__|   < \n",
    " |____/|_|\\__,_|\\___|_|\\_\\ |\\__,_|\\___|_|\\_\\               \n",
    "                       |__/                  \n",
    "'''"
   ]
  },
  {
   "cell_type": "code",
   "execution_count": 22,
   "metadata": {},
   "outputs": [],
   "source": [
    "def create_deck():\n",
    "    deck = []\n",
    "    card_colors = [\"diamonds\", \"heart\", \"spades\", \"clubs\"]\n",
    "    card_figure = ['A','2','3','4','5','6','7','8','9','10','J','Q','K']\n",
    "    for color in card_colors:\n",
    "        for figure in card_figure:\n",
    "            temp = (figure, color)\n",
    "            deck.append(temp)\n",
    "    return deck\n",
    "\n",
    "def take_card(deck, hand):\n",
    "    position = int(random.random() * len(deck))\n",
    "    hand.append(deck[position][0])\n",
    "    del deck[position]\n",
    "    return hand\n",
    "\n",
    "def score_calculation(cards):\n",
    "    total = 0\n",
    "    card_value = {'A':11,'2':2,'3':3,'4':4,'5':5,'6':6,'7':7,'8':8,'9':9,'10':10,'J':10,'Q':10,'K':10}\n",
    "\n",
    "    if sum([card_value[card] for card in cards]) == 21 and len(cards) == 2:\n",
    "        return 0 \n",
    "\n",
    "    for card in cards:\n",
    "        if total > 11 and card == 'A':\n",
    "            total += 1\n",
    "        else:\n",
    "            total += card_value[card]\n",
    "    return total\n",
    "\n",
    "def compare(my_score, computer_score):\n",
    "    if my_score > 21 and computer_score > 21:\n",
    "        return 'You went over. You lose.'\n",
    "    if my_score == computer_score:\n",
    "        return 'Draw.'\n",
    "    elif computer_score == 0:\n",
    "        return \"Lose, opponent has Blackjack.\"\n",
    "    elif my_score == 0:\n",
    "        return \"Win with a Blackjack.\"\n",
    "    elif my_score > 21:\n",
    "        return \"You went over. You lose.\"\n",
    "    elif computer_score > 21:\n",
    "        return \"Opponent went over. You win.\"\n",
    "    elif my_score > computer_score:\n",
    "        return \"You win.\"\n",
    "    else:\n",
    "        return \"You lose.\""
   ]
  },
  {
   "cell_type": "code",
   "execution_count": 23,
   "metadata": {},
   "outputs": [],
   "source": [
    "def game():\n",
    "    deck = create_deck()\n",
    "    my_hand = []\n",
    "    computer_hand = []\n",
    "\n",
    "    for _ in range(2):\n",
    "        take_card(deck, my_hand)\n",
    "        take_card(deck, computer_hand)\n",
    "\n",
    "    game_over = False    \n",
    "\n",
    "    while game_over != True:\n",
    "\n",
    "        my_score = score_calculation(my_hand)\n",
    "        computer_score = score_calculation(computer_hand)\n",
    "\n",
    "        print(f'Your cards {my_hand}, current score: {my_score}')\n",
    "        print(f'Computer first card: {computer_hand[0]}')\n",
    "\n",
    "        if my_score == 0 or computer_score == 0  or my_score > 21:\n",
    "            game_over = True\n",
    "        else:\n",
    "            keep_playing = input(\"Type 'y' to get another card, type 'n' to pass: \")\n",
    "            if keep_playing == 'y':\n",
    "                take_card(deck, my_hand)\n",
    "            else:\n",
    "                game_over = True\n",
    "\n",
    "    while computer_score != 0 and computer_score < 18:\n",
    "        take_card(deck, computer_hand)\n",
    "        computer_score = score_calculation(computer_hand)\n",
    "\n",
    "    print(f\"Your final hand: {my_hand}, final score: {my_score}\")\n",
    "    print(f\"Computer's final hand: {computer_hand}, final score: {computer_score}\")\n",
    "    print(compare(my_score, computer_score))"
   ]
  },
  {
   "cell_type": "code",
   "execution_count": 24,
   "metadata": {},
   "outputs": [
    {
     "name": "stdout",
     "output_type": "stream",
     "text": [
      "Your cards ['K', '10'], current score: 20\n",
      "Computer first card: 6\n"
     ]
    },
    {
     "name": "stdin",
     "output_type": "stream",
     "text": [
      "Type 'y' to get another card, type 'n' to pass:  y\n"
     ]
    },
    {
     "name": "stdout",
     "output_type": "stream",
     "text": [
      "Your cards ['K', '10', 'A'], current score: 21\n",
      "Computer first card: 6\n"
     ]
    },
    {
     "name": "stdin",
     "output_type": "stream",
     "text": [
      "Type 'y' to get another card, type 'n' to pass:  n\n"
     ]
    },
    {
     "name": "stdout",
     "output_type": "stream",
     "text": [
      "Your final hand: ['K', '10', 'A'], final score: 21\n",
      "Computer's final hand: ['6', 'J', '7'], final score: 23\n",
      "Opponent went over. You win.\n"
     ]
    },
    {
     "name": "stdin",
     "output_type": "stream",
     "text": [
      "Do you want to play a game of Blackjack? Type 'y' or 'n':  n\n"
     ]
    },
    {
     "name": "stdout",
     "output_type": "stream",
     "text": [
      "End of game\n"
     ]
    }
   ],
   "source": [
    "print(black_jack)\n",
    "while input(\"Do you want to play a game of Blackjack? Type 'y' or 'n': \") == \"y\":\n",
    "    clear_output()\n",
    "    game()\n",
    "else:\n",
    "    print('End of game')"
   ]
  },
  {
   "cell_type": "code",
   "execution_count": null,
   "metadata": {},
   "outputs": [],
   "source": []
  }
 ],
 "metadata": {
  "kernelspec": {
   "display_name": "TensorflowGPU",
   "language": "python",
   "name": "tensorflow"
  },
  "language_info": {
   "codemirror_mode": {
    "name": "ipython",
    "version": 3
   },
   "file_extension": ".py",
   "mimetype": "text/x-python",
   "name": "python",
   "nbconvert_exporter": "python",
   "pygments_lexer": "ipython3",
   "version": "3.7.6"
  }
 },
 "nbformat": 4,
 "nbformat_minor": 4
}
