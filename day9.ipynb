{
 "cells": [
  {
   "cell_type": "markdown",
   "metadata": {},
   "source": [
    "## Day 9"
   ]
  },
  {
   "cell_type": "code",
   "execution_count": 1,
   "metadata": {},
   "outputs": [],
   "source": [
    "from IPython.display import clear_output\n",
    "import pandas as pd \n",
    "gavel = '''\n",
    "                         ___________\n",
    "                         \\         /\n",
    "                          )_______(\n",
    "                          |\"\"\"\"\"\"\"|_.-._,.---------.,_.-._\n",
    "                          |       | | |               | | ''-.\n",
    "                          |       |_| |_             _| |_..-'\n",
    "                          |_______| '-' `'---------'` '-'\n",
    "                          )\"\"\"\"\"\"\"(\n",
    "                         /_________\\\n",
    "                         `'-------'`\n",
    "                       .-------------.\n",
    "                      /_______________\\\n",
    "'''\n",
    "def check():\n",
    "    global participants\n",
    "    my_name = input('What is your name?').title()\n",
    "    if my_name not in participants.keys(): \n",
    "        my_price = int(input(\"What's your bid?: $\"))\n",
    "        participants[my_name] = my_price\n",
    "    else:\n",
    "        print('we already have participant with that name...')\n",
    "        check()\n",
    "\n",
    "def any_other_participants():\n",
    "    while True:\n",
    "        temp = input(\"Are there any other bidders? Type 'yes' or 'no'.\")\n",
    "        if temp.lower() in ('yes', 'no'):\n",
    "            False\n",
    "            return temp\n",
    "        \n",
    "def highlight_winner(dataframe):\n",
    "    df = dataframe.copy()\n",
    "    mask = df['Bid ($)'] == df['Bid ($)'].max()\n",
    "    df.loc[mask, :] = 'background-color: #33cc3d'\n",
    "    df.loc[~mask,:] = 'background-color: white'\n",
    "    return df "
   ]
  },
  {
   "cell_type": "code",
   "execution_count": 2,
   "metadata": {},
   "outputs": [
    {
     "name": "stdout",
     "output_type": "stream",
     "text": [
      "End of auction.\n",
      "The winner of the auction is >>>Gloria<<<.\n",
      "List of participants:\n"
     ]
    },
    {
     "data": {
      "text/html": [
       "<style  type=\"text/css\" >\n",
       "#T_3c178aec_4d11_11eb_91cb_185680e18821row0_col0,#T_3c178aec_4d11_11eb_91cb_185680e18821row0_col1,#T_3c178aec_4d11_11eb_91cb_185680e18821row1_col0,#T_3c178aec_4d11_11eb_91cb_185680e18821row1_col1,#T_3c178aec_4d11_11eb_91cb_185680e18821row2_col0,#T_3c178aec_4d11_11eb_91cb_185680e18821row2_col1,#T_3c178aec_4d11_11eb_91cb_185680e18821row4_col0,#T_3c178aec_4d11_11eb_91cb_185680e18821row4_col1,#T_3c178aec_4d11_11eb_91cb_185680e18821row5_col0,#T_3c178aec_4d11_11eb_91cb_185680e18821row5_col1{\n",
       "            background-color:  white;\n",
       "        }#T_3c178aec_4d11_11eb_91cb_185680e18821row3_col0,#T_3c178aec_4d11_11eb_91cb_185680e18821row3_col1{\n",
       "            background-color:  #33cc3d;\n",
       "        }</style><table id=\"T_3c178aec_4d11_11eb_91cb_185680e18821\" ><thead>    <tr>        <th class=\"blank level0\" ></th>        <th class=\"col_heading level0 col0\" >Name</th>        <th class=\"col_heading level0 col1\" >Bid ($)</th>    </tr></thead><tbody>\n",
       "                <tr>\n",
       "                        <th id=\"T_3c178aec_4d11_11eb_91cb_185680e18821level0_row0\" class=\"row_heading level0 row0\" >0</th>\n",
       "                        <td id=\"T_3c178aec_4d11_11eb_91cb_185680e18821row0_col0\" class=\"data row0 col0\" >Paweł</td>\n",
       "                        <td id=\"T_3c178aec_4d11_11eb_91cb_185680e18821row0_col1\" class=\"data row0 col1\" >43</td>\n",
       "            </tr>\n",
       "            <tr>\n",
       "                        <th id=\"T_3c178aec_4d11_11eb_91cb_185680e18821level0_row1\" class=\"row_heading level0 row1\" >1</th>\n",
       "                        <td id=\"T_3c178aec_4d11_11eb_91cb_185680e18821row1_col0\" class=\"data row1 col0\" >Mark</td>\n",
       "                        <td id=\"T_3c178aec_4d11_11eb_91cb_185680e18821row1_col1\" class=\"data row1 col1\" >34</td>\n",
       "            </tr>\n",
       "            <tr>\n",
       "                        <th id=\"T_3c178aec_4d11_11eb_91cb_185680e18821level0_row2\" class=\"row_heading level0 row2\" >2</th>\n",
       "                        <td id=\"T_3c178aec_4d11_11eb_91cb_185680e18821row2_col0\" class=\"data row2 col0\" >Anna</td>\n",
       "                        <td id=\"T_3c178aec_4d11_11eb_91cb_185680e18821row2_col1\" class=\"data row2 col1\" >89</td>\n",
       "            </tr>\n",
       "            <tr>\n",
       "                        <th id=\"T_3c178aec_4d11_11eb_91cb_185680e18821level0_row3\" class=\"row_heading level0 row3\" >3</th>\n",
       "                        <td id=\"T_3c178aec_4d11_11eb_91cb_185680e18821row3_col0\" class=\"data row3 col0\" >Gloria</td>\n",
       "                        <td id=\"T_3c178aec_4d11_11eb_91cb_185680e18821row3_col1\" class=\"data row3 col1\" >123</td>\n",
       "            </tr>\n",
       "            <tr>\n",
       "                        <th id=\"T_3c178aec_4d11_11eb_91cb_185680e18821level0_row4\" class=\"row_heading level0 row4\" >4</th>\n",
       "                        <td id=\"T_3c178aec_4d11_11eb_91cb_185680e18821row4_col0\" class=\"data row4 col0\" >Tom</td>\n",
       "                        <td id=\"T_3c178aec_4d11_11eb_91cb_185680e18821row4_col1\" class=\"data row4 col1\" >65</td>\n",
       "            </tr>\n",
       "            <tr>\n",
       "                        <th id=\"T_3c178aec_4d11_11eb_91cb_185680e18821level0_row5\" class=\"row_heading level0 row5\" >5</th>\n",
       "                        <td id=\"T_3c178aec_4d11_11eb_91cb_185680e18821row5_col0\" class=\"data row5 col0\" >Olivia</td>\n",
       "                        <td id=\"T_3c178aec_4d11_11eb_91cb_185680e18821row5_col1\" class=\"data row5 col1\" >23</td>\n",
       "            </tr>\n",
       "    </tbody></table>"
      ],
      "text/plain": [
       "<pandas.io.formats.style.Styler at 0x25d4497ddc8>"
      ]
     },
     "execution_count": 2,
     "metadata": {},
     "output_type": "execute_result"
    }
   ],
   "source": [
    "print('Welcome to secret auction program.')\n",
    "participants = dict()\n",
    "end = False\n",
    "\n",
    "while end == False:\n",
    "    clear_output()\n",
    "    check()\n",
    "    any_others = any_other_participants()\n",
    "    if any_others == 'no':\n",
    "        end = True\n",
    "        \n",
    "        \n",
    "clear_output()\n",
    "print('End of auction.')\n",
    "dataframe = pd.DataFrame(list(participants.items()), columns=['Name', 'Bid ($)'])\n",
    "print(f\"The winner of the auction is >>>{dataframe['Name'][dataframe['Bid ($)'].idxmax()]}<<<.\")\n",
    "print('List of participants:')\n",
    "dataframe.style.apply(highlight_winner, axis=None)"
   ]
  }
 ],
 "metadata": {
  "kernelspec": {
   "display_name": "TensorflowGPU",
   "language": "python",
   "name": "tensorflow"
  },
  "language_info": {
   "codemirror_mode": {
    "name": "ipython",
    "version": 3
   },
   "file_extension": ".py",
   "mimetype": "text/x-python",
   "name": "python",
   "nbconvert_exporter": "python",
   "pygments_lexer": "ipython3",
   "version": "3.7.6"
  }
 },
 "nbformat": 4,
 "nbformat_minor": 4
}
