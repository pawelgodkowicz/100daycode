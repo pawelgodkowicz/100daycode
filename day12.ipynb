{
 "cells": [
  {
   "cell_type": "markdown",
   "metadata": {},
   "source": [
    "## Day 12"
   ]
  },
  {
   "cell_type": "code",
   "execution_count": 11,
   "metadata": {},
   "outputs": [
    {
     "name": "stdin",
     "output_type": "stream",
     "text": [
      "Welcome to the Number Guess Game!\n",
      "I'm thinking of a number between 1 and 100.\n",
      "Chcose a dificulty. Type 'easy' or 'hard': hard\n"
     ]
    },
    {
     "name": "stdout",
     "output_type": "stream",
     "text": [
      "You have 5 attempts ramaining to guess the number.\n"
     ]
    },
    {
     "name": "stdin",
     "output_type": "stream",
     "text": [
      "Make a guess:  50\n"
     ]
    },
    {
     "name": "stdout",
     "output_type": "stream",
     "text": [
      "---> Too low. <---\n",
      "Guess again.\n",
      "You have 4 attempts remaining to guess the number.\n"
     ]
    },
    {
     "name": "stdin",
     "output_type": "stream",
     "text": [
      "Make a guess:  80\n"
     ]
    },
    {
     "name": "stdout",
     "output_type": "stream",
     "text": [
      "---> Too low. <---\n",
      "Guess again.\n",
      "You have 3 attempts remaining to guess the number.\n"
     ]
    },
    {
     "name": "stdin",
     "output_type": "stream",
     "text": [
      "Make a guess:  90\n"
     ]
    },
    {
     "name": "stdout",
     "output_type": "stream",
     "text": [
      "---> Too high. <---\n",
      "Guess again.\n",
      "You have 2 attempts remaining to guess the number.\n"
     ]
    },
    {
     "name": "stdin",
     "output_type": "stream",
     "text": [
      "Make a guess:  86\n"
     ]
    },
    {
     "name": "stdout",
     "output_type": "stream",
     "text": [
      "---> Too low. <---\n",
      "Guess again.\n",
      "You have 1 attempts remaining to guess the number.\n"
     ]
    },
    {
     "name": "stdin",
     "output_type": "stream",
     "text": [
      "Make a guess:  88\n"
     ]
    },
    {
     "name": "stdout",
     "output_type": "stream",
     "text": [
      "YOU GOT IT! The answer was 88\n"
     ]
    }
   ],
   "source": [
    "import random\n",
    "\n",
    "def game_difficulty():\n",
    "    choice = input(\n",
    "        '''Welcome to the Number Guess Game!\n",
    "I'm thinking of a number between 1 and 100.\n",
    "Chcose a dificulty. Type 'easy' or 'hard':'''\n",
    "    )\n",
    "    while choice.lower() not in (['easy', 'hard']):\n",
    "        choice = input(\"Chcose a dificulty. Type 'easy' or 'hard':\")\n",
    "    else:\n",
    "        if choice == 'easy':\n",
    "            return 10\n",
    "        else:\n",
    "            return 5\n",
    "\n",
    "def game():\n",
    "    \n",
    "    number_to_guess = random.randint(1,100)\n",
    "    lives = game_difficulty()\n",
    "    print(f'You have {lives} attempts ramaining to guess the number.')\n",
    "    while lives != 0:        \n",
    "        guess = int(input('Make a guess: '))\n",
    "    \n",
    "        if guess == number_to_guess:\n",
    "            print(f'YOU GOT IT! The answer was {guess}')\n",
    "            break\n",
    "        elif guess > number_to_guess:\n",
    "            print('---> Too high. <---')\n",
    "        else:\n",
    "            print('---> Too low. <---')\n",
    "            \n",
    "        \n",
    "        lives -= 1\n",
    "        print('Guess again.')\n",
    "        print(f'You have {lives} attempts remaining to guess the number.')\n",
    "            \n",
    "    else:\n",
    "        print(f\"You lose, try again. The answer was '{number_to_guess}'\")\n",
    "        \n",
    "game()"
   ]
  }
 ],
 "metadata": {
  "kernelspec": {
   "display_name": "TensorflowGPU",
   "language": "python",
   "name": "tensorflow"
  },
  "language_info": {
   "codemirror_mode": {
    "name": "ipython",
    "version": 3
   },
   "file_extension": ".py",
   "mimetype": "text/x-python",
   "name": "python",
   "nbconvert_exporter": "python",
   "pygments_lexer": "ipython3",
   "version": "3.7.6"
  }
 },
 "nbformat": 4,
 "nbformat_minor": 4
}
