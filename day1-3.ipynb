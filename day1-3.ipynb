{
 "cells": [
  {
   "cell_type": "markdown",
   "metadata": {},
   "source": [
    "## Day 1"
   ]
  },
  {
   "cell_type": "code",
   "execution_count": 1,
   "metadata": {},
   "outputs": [
    {
     "name": "stdout",
     "output_type": "stream",
     "text": [
      "Day 1 - Python Print Function\n",
      "The function is declared like this:\n",
      "print('what to print')\n"
     ]
    }
   ],
   "source": [
    "print('Day 1 - Python Print Function')\n",
    "print('The function is declared like this:')\n",
    "print(\"print('what to print')\")"
   ]
  },
  {
   "cell_type": "code",
   "execution_count": 6,
   "metadata": {},
   "outputs": [
    {
     "name": "stdout",
     "output_type": "stream",
     "text": [
      "\n",
      "Day 1 - Python Print Function\n",
      "The function is declared like this:\n",
      "print('what to print')\n",
      "\n"
     ]
    }
   ],
   "source": [
    "print('''\n",
    "Day 1 - Python Print Function\n",
    "The function is declared like this:\n",
    "print('what to print')\n",
    "''')"
   ]
  },
  {
   "cell_type": "code",
   "execution_count": 11,
   "metadata": {},
   "outputs": [
    {
     "name": "stdin",
     "output_type": "stream",
     "text": [
      "What is your name ? PAweł\n"
     ]
    },
    {
     "name": "stdout",
     "output_type": "stream",
     "text": [
      "5\n"
     ]
    }
   ],
   "source": [
    "print(len(input('What is your name ?')))"
   ]
  },
  {
   "cell_type": "code",
   "execution_count": 15,
   "metadata": {},
   "outputs": [
    {
     "name": "stdin",
     "output_type": "stream",
     "text": [
      "a: 2\n",
      "b: 3\n"
     ]
    },
    {
     "name": "stdout",
     "output_type": "stream",
     "text": [
      "a:3\n",
      "b:2\n"
     ]
    }
   ],
   "source": [
    "a = input('a:')\n",
    "b = input('b:')\n",
    "print(f'a:{b}\\nb:{a}')"
   ]
  },
  {
   "cell_type": "code",
   "execution_count": 1,
   "metadata": {},
   "outputs": [
    {
     "name": "stdout",
     "output_type": "stream",
     "text": [
      "a:4\n",
      "b:6\n",
      "a:6\n",
      "b:4\n"
     ]
    }
   ],
   "source": [
    "a=4\n",
    "b=6\n",
    "print(f'a:{a}\\nb:{b}')\n",
    "c=a\n",
    "a=b\n",
    "b=c\n",
    "print(f'a:{a}\\nb:{b}')"
   ]
  },
  {
   "cell_type": "code",
   "execution_count": 5,
   "metadata": {},
   "outputs": [
    {
     "name": "stdout",
     "output_type": "stream",
     "text": [
      "Welcome to the Band Name Generator\n"
     ]
    },
    {
     "name": "stdin",
     "output_type": "stream",
     "text": [
      "What's name of the city you grew up in?\n",
      " sd\n",
      "What's the name of your pet?\n",
      " ff\n"
     ]
    },
    {
     "name": "stdout",
     "output_type": "stream",
     "text": [
      "Your band name:sd ff\n"
     ]
    }
   ],
   "source": [
    "print('Welcome to the Band Name Generator')\n",
    "a = input(\"What's name of the city you grew up in?\\n\")\n",
    "b = input(\"What's the name of your pet?\\n\")\n",
    "print('Your band name:'+a + ' ' + b)"
   ]
  },
  {
   "cell_type": "markdown",
   "metadata": {},
   "source": [
    "## Day 2 "
   ]
  },
  {
   "cell_type": "code",
   "execution_count": 22,
   "metadata": {},
   "outputs": [
    {
     "name": "stdout",
     "output_type": "stream",
     "text": [
      "Bienvenido a la calculadora de propinas.\n"
     ]
    },
    {
     "name": "stdin",
     "output_type": "stream",
     "text": [
      "What was the total bill? $ 400\n",
      "How many people to split the bill? 7\n",
      "What percentage tip would you like to give? 10, 12, or 15? 12\n"
     ]
    },
    {
     "name": "stdout",
     "output_type": "stream",
     "text": [
      "Each person should pay: $68.57\n"
     ]
    }
   ],
   "source": [
    "print('Bienvenido a la calculadora de propinas.')\n",
    "total_bill = float(input('What was the total bill? $'))\n",
    "nr_ppl = int(input('How many people to split the bill?'))\n",
    "tip_pct = int(input('What percentage tip would you like to give? 10, 12, or 15?'))\n",
    "while tip_pct not in (10,12,15):\n",
    "    print('Estas no son opciones seleccionadas')\n",
    "    tip_pct = int(input('What percentage tip would you like to give? 10, 12, or 15?'))\n",
    "if tip_pct == 10:\n",
    "    print(f'Each person should pay: ${round(total_bill * 1.1 / nr_ppl, 2)}')\n",
    "elif tip_pct == 12:\n",
    "    print(f'Each person should pay: ${round(total_bill * 1.2 / nr_ppl, 2)}')\n",
    "else:\n",
    "    print(f'Each person should pay: ${round(total_bill * 1.5 / nr_ppl, 2)}')"
   ]
  },
  {
   "cell_type": "markdown",
   "metadata": {},
   "source": [
    "## Day 3"
   ]
  },
  {
   "cell_type": "code",
   "execution_count": 6,
   "metadata": {},
   "outputs": [
    {
     "name": "stdout",
     "output_type": "stream",
     "text": [
      "\n",
      "*******************************************************************************\n",
      "          |                   |                  |                     |\n",
      " _________|________________.=\"\"_;=.______________|_____________________|_______\n",
      "|                   |  ,-\"_,=\"\"     `\"=.|                  |\n",
      "|___________________|__\"=._o`\"-._        `\"=.______________|___________________\n",
      "          |                `\"=._o`\"=._      _`\"=._                     |\n",
      " _________|_____________________:=._o \"=._.\"_.-=\"'\"=.__________________|_______\n",
      "|                   |    __.--\" , ; `\"=._o.\" ,-\"\"\"-._ \".   |\n",
      "|___________________|_._\"  ,. .` ` `` ,  `\"-._\"-._   \". '__|___________________\n",
      "          |           |o`\"=._` , \"` `; .\". ,  \"-._\"-._; ;              |\n",
      " _________|___________| ;`-.o`\"=._; .\" ` '`.\"\\` . \"-._ /_______________|_______\n",
      "|                   | |o;    `\"-.o`\"=._``  '` \" ,__.--o;   |\n",
      "|___________________|_| ;     (#) `-.o `\"=.`_.--\"_o.-; ;___|___________________\n",
      "____/______/______/___|o;._    \"      `\".o|o_.--\"    ;o;____/______/______/____\n",
      "/______/______/______/_\"=._o--._        ; | ;        ; ;/______/______/______/_\n",
      "____/______/______/______/__\"=._o--._   ;o|o;     _._;o;____/______/______/____\n",
      "/______/______/______/______/____\"=._o._; | ;_.--\"o.--\"_/______/______/______/_\n",
      "____/______/______/______/______/_____\"=.o|o_.--\"\"___/______/______/______/____\n",
      "/______/______/______/______/______/______/______/______/______/______/_______/\n",
      "*******************************************************************************\n",
      "\n",
      "Welcome to Treasure Island. Your mission is to find and treasure.\n",
      "\n",
      "\n",
      "\n"
     ]
    },
    {
     "name": "stdin",
     "output_type": "stream",
     "text": [
      "Go \"Left\" or \"Right\" on crossroad?\n",
      " Right\n"
     ]
    },
    {
     "name": "stdout",
     "output_type": "stream",
     "text": [
      "Game Over.\n"
     ]
    },
    {
     "name": "stdin",
     "output_type": "stream",
     "text": [
      "Do you want play again? \"Yes\" or \"No\"\n",
      " yes\n"
     ]
    },
    {
     "name": "stdout",
     "output_type": "stream",
     "text": [
      "\n",
      "*******************************************************************************\n",
      "          |                   |                  |                     |\n",
      " _________|________________.=\"\"_;=.______________|_____________________|_______\n",
      "|                   |  ,-\"_,=\"\"     `\"=.|                  |\n",
      "|___________________|__\"=._o`\"-._        `\"=.______________|___________________\n",
      "          |                `\"=._o`\"=._      _`\"=._                     |\n",
      " _________|_____________________:=._o \"=._.\"_.-=\"'\"=.__________________|_______\n",
      "|                   |    __.--\" , ; `\"=._o.\" ,-\"\"\"-._ \".   |\n",
      "|___________________|_._\"  ,. .` ` `` ,  `\"-._\"-._   \". '__|___________________\n",
      "          |           |o`\"=._` , \"` `; .\". ,  \"-._\"-._; ;              |\n",
      " _________|___________| ;`-.o`\"=._; .\" ` '`.\"\\` . \"-._ /_______________|_______\n",
      "|                   | |o;    `\"-.o`\"=._``  '` \" ,__.--o;   |\n",
      "|___________________|_| ;     (#) `-.o `\"=.`_.--\"_o.-; ;___|___________________\n",
      "____/______/______/___|o;._    \"      `\".o|o_.--\"    ;o;____/______/______/____\n",
      "/______/______/______/_\"=._o--._        ; | ;        ; ;/______/______/______/_\n",
      "____/______/______/______/__\"=._o--._   ;o|o;     _._;o;____/______/______/____\n",
      "/______/______/______/______/____\"=._o._; | ;_.--\"o.--\"_/______/______/______/_\n",
      "____/______/______/______/______/_____\"=.o|o_.--\"\"___/______/______/______/____\n",
      "/______/______/______/______/______/______/______/______/______/______/_______/\n",
      "*******************************************************************************\n",
      "\n",
      "Welcome to Treasure Island. Your mission is to find and treasure.\n",
      "\n",
      "\n",
      "\n"
     ]
    },
    {
     "name": "stdin",
     "output_type": "stream",
     "text": [
      "Go \"Left\" or \"Right\" on crossroad?\n",
      " left\n",
      "You come to lake. You want to \"Swim\" or \"Wait\" for boat?\n",
      " wait\n",
      "There are 3 door in front of you. Which color of door you pick: \"Red\", \"Yellow\", \"Blue\"\n",
      " yellow\n"
     ]
    },
    {
     "name": "stdout",
     "output_type": "stream",
     "text": [
      "Woof poof poof !!!\n",
      "You Win!\n"
     ]
    }
   ],
   "source": [
    "treasury_pic = '''\n",
    "*******************************************************************************\n",
    "          |                   |                  |                     |\n",
    " _________|________________.=\"\"_;=.______________|_____________________|_______\n",
    "|                   |  ,-\"_,=\"\"     `\"=.|                  |\n",
    "|___________________|__\"=._o`\"-._        `\"=.______________|___________________\n",
    "          |                `\"=._o`\"=._      _`\"=._                     |\n",
    " _________|_____________________:=._o \"=._.\"_.-=\"'\"=.__________________|_______\n",
    "|                   |    __.--\" , ; `\"=._o.\" ,-\"\"\"-._ \".   |\n",
    "|___________________|_._\"  ,. .` ` `` ,  `\"-._\"-._   \". '__|___________________\n",
    "          |           |o`\"=._` , \"` `; .\". ,  \"-._\"-._; ;              |\n",
    " _________|___________| ;`-.o`\"=._; .\" ` '`.\"\\` . \"-._ /_______________|_______\n",
    "|                   | |o;    `\"-.o`\"=._``  '` \" ,__.--o;   |\n",
    "|___________________|_| ;     (#) `-.o `\"=.`_.--\"_o.-; ;___|___________________\n",
    "____/______/______/___|o;._    \"      `\".o|o_.--\"    ;o;____/______/______/____\n",
    "/______/______/______/_\"=._o--._        ; | ;        ; ;/______/______/______/_\n",
    "____/______/______/______/__\"=._o--._   ;o|o;     _._;o;____/______/______/____\n",
    "/______/______/______/______/____\"=._o._; | ;_.--\"o.--\"_/______/______/______/_\n",
    "____/______/______/______/______/_____\"=.o|o_.--\"\"___/______/______/______/____\n",
    "/______/______/______/______/______/______/______/______/______/______/_______/\n",
    "*******************************************************************************\n",
    "'''\n",
    "\n",
    "q1 = 'Go \"Left\" or \"Right\" on crossroad?\\n'\n",
    "q2 = 'You come to lake. You want to \"Swim\" or \"Wait\" for boat?\\n'\n",
    "q3 = 'There are 3 door in front of you. Which color of door you pick: \"Red\", \"Yellow\", \"Blue\"\\n'\n",
    "end_q = 'Do you want play again? \"Yes\" or \"No\"\\n'\n",
    "def game():\n",
    "    print(treasury_pic)\n",
    "    print('Welcome to Treasure Island. Your mission is to find and treasure.\\n\\n')\n",
    "\n",
    "    first = input(q1)\n",
    "    while first.lower() not in ('left','right'):\n",
    "        first = input()\n",
    "\n",
    "    if first.lower() == 'left':\n",
    "\n",
    "        second = input(q2)\n",
    "        while second.lower() not in ('swim','wait'):\n",
    "            second = input()\n",
    "\n",
    "        if second.lower() == 'wait': \n",
    "\n",
    "            third = input(q3)\n",
    "            while third.lower() not in ('red','blue', 'yellow'):\n",
    "                third = input()\n",
    "\n",
    "            if third.lower() == 'yellow': \n",
    "                print('Woof poof poof !!!\\nYou Win!')\n",
    "            else:\n",
    "                print('Game Over.')\n",
    "        else:\n",
    "            print('Game Over.')\n",
    "    else:\n",
    "        print('Game Over.')\n",
    "        end=input(end_q)\n",
    "        while end.lower() not in ('yes','no'):\n",
    "            end=input()\n",
    "        if end.lower() == \"yes\":\n",
    "            game()\n",
    "        else:\n",
    "            print('Thanks for your time!')\n",
    "game()"
   ]
  },
  {
   "cell_type": "code",
   "execution_count": null,
   "metadata": {},
   "outputs": [],
   "source": []
  },
  {
   "cell_type": "code",
   "execution_count": null,
   "metadata": {},
   "outputs": [],
   "source": []
  }
 ],
 "metadata": {
  "kernelspec": {
   "display_name": "TensorflowGPU",
   "language": "python",
   "name": "tensorflow"
  },
  "language_info": {
   "codemirror_mode": {
    "name": "ipython",
    "version": 3
   },
   "file_extension": ".py",
   "mimetype": "text/x-python",
   "name": "python",
   "nbconvert_exporter": "python",
   "pygments_lexer": "ipython3",
   "version": "3.7.6"
  }
 },
 "nbformat": 4,
 "nbformat_minor": 4
}
